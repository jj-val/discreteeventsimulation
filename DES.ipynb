{
 "cells": [
  {
   "cell_type": "markdown",
   "metadata": {},
   "source": [
    "## Discrete-Event Simulation Exercise"
   ]
  },
  {
   "cell_type": "markdown",
   "metadata": {},
   "source": [
    "Discrete-event simulation queueing exercise from Law's Simulation Modeling and Analysis."
   ]
  },
  {
   "cell_type": "code",
   "execution_count": 1,
   "metadata": {},
   "outputs": [],
   "source": [
    "import simpy\n",
    "import numpy as np\n",
    "import matplotlib.pyplot as plt\n",
    "import statistics "
   ]
  },
  {
   "cell_type": "code",
   "execution_count": 2,
   "metadata": {},
   "outputs": [],
   "source": [
    "def generate_inter_arrival():\n",
    "    return np.random.exponential(1.0/3.0) # exponential distribution"
   ]
  },
  {
   "cell_type": "code",
   "execution_count": 3,
   "metadata": {},
   "outputs": [],
   "source": [
    "def facility(env, server): \n",
    "    counter = 0\n",
    "    while True:\n",
    "        counter += 1\n",
    "        yield env.timeout(generate_inter_arrival())\n",
    "        env.process(customer(env, counter, server))   "
   ]
  },
  {
   "cell_type": "code",
   "execution_count": 4,
   "metadata": {},
   "outputs": [],
   "source": [
    "def generate_service():\n",
    "    return np.random.exponential(1.0/4.0) # exponential distribution"
   ]
  },
  {
   "cell_type": "code",
   "execution_count": 5,
   "metadata": {},
   "outputs": [],
   "source": [
    "waiting_time = [] # create list to append wait times \n",
    "\n",
    "def customer(env, counter, server):\n",
    "    with server.request() as request:\n",
    "        arrival_time = env.now\n",
    "        print(env.now, 'Customer {} arrives'.format(counter))\n",
    "        yield request\n",
    "        print(env.now, 'Customer {} being served'.format(counter))\n",
    "        yield env.timeout(generate_service())\n",
    "        print(env.now, 'Customer {} departs'.format(counter))\n",
    "        depart_time = env.now\n",
    "        waiting_time.append(depart_time - arrival_time)"
   ]
  },
  {
   "cell_type": "code",
   "execution_count": 6,
   "metadata": {},
   "outputs": [],
   "source": [
    "env = simpy.Environment() # Create simpy environment"
   ]
  },
  {
   "cell_type": "code",
   "execution_count": 7,
   "metadata": {},
   "outputs": [
    {
     "name": "stdout",
     "output_type": "stream",
     "text": [
      "0.26529150272103663 Customer 1 arrives\n",
      "0.26529150272103663 Customer 1 being served\n",
      "0.49609728917205387 Customer 1 departs\n",
      "0.683935090376316 Customer 2 arrives\n",
      "0.683935090376316 Customer 2 being served\n",
      "0.8216972131501907 Customer 2 departs\n",
      "0.9463354744820729 Customer 3 arrives\n",
      "0.9463354744820729 Customer 3 being served\n",
      "1.0902152742742328 Customer 3 departs\n",
      "1.2923885727966093 Customer 4 arrives\n",
      "1.2923885727966093 Customer 4 being served\n",
      "2.0335633771408284 Customer 5 arrives\n",
      "2.121116618310063 Customer 4 departs\n",
      "2.121116618310063 Customer 5 being served\n",
      "2.1947640774415795 Customer 6 arrives\n",
      "2.445655447287109 Customer 7 arrives\n",
      "2.513340653302355 Customer 5 departs\n",
      "2.513340653302355 Customer 6 being served\n",
      "2.72546639620005 Customer 8 arrives\n",
      "2.7500281811709995 Customer 9 arrives\n",
      "2.780415190877333 Customer 10 arrives\n",
      "2.787223719772075 Customer 11 arrives\n",
      "3.162904191783715 Customer 6 departs\n",
      "3.162904191783715 Customer 7 being served\n",
      "3.3830529463103707 Customer 12 arrives\n",
      "3.5393502497500187 Customer 7 departs\n",
      "3.5393502497500187 Customer 8 being served\n",
      "4.063157706625554 Customer 13 arrives\n",
      "4.500655709291731 Customer 8 departs\n",
      "4.500655709291731 Customer 9 being served\n",
      "4.598237559608936 Customer 14 arrives\n",
      "4.655388073944973 Customer 9 departs\n",
      "4.655388073944973 Customer 10 being served\n",
      "4.686856676902609 Customer 10 departs\n",
      "4.686856676902609 Customer 11 being served\n",
      "4.942214648500627 Customer 11 departs\n",
      "4.942214648500627 Customer 12 being served\n",
      "4.9808970691825385 Customer 12 departs\n",
      "4.9808970691825385 Customer 13 being served\n",
      "5.10374955190232 Customer 15 arrives\n",
      "5.349691978006006 Customer 16 arrives\n",
      "5.528213884106258 Customer 17 arrives\n",
      "5.630640668469742 Customer 18 arrives\n",
      "5.70450218160542 Customer 13 departs\n",
      "5.70450218160542 Customer 14 being served\n",
      "5.8567727856811915 Customer 14 departs\n",
      "5.8567727856811915 Customer 15 being served\n",
      "6.0668564623980945 Customer 15 departs\n",
      "6.0668564623980945 Customer 16 being served\n",
      "6.0715986053136906 Customer 16 departs\n",
      "6.0715986053136906 Customer 17 being served\n",
      "6.1267256147119875 Customer 19 arrives\n",
      "6.3119438376124055 Customer 17 departs\n",
      "6.3119438376124055 Customer 18 being served\n",
      "6.442391173993247 Customer 20 arrives\n",
      "6.551830830794715 Customer 18 departs\n",
      "6.551830830794715 Customer 19 being served\n",
      "6.838115570457308 Customer 19 departs\n",
      "6.838115570457308 Customer 20 being served\n",
      "6.949495193640118 Customer 20 departs\n",
      "7.401696200240255 Customer 21 arrives\n",
      "7.401696200240255 Customer 21 being served\n",
      "7.593207003159416 Customer 22 arrives\n",
      "7.613912101801188 Customer 23 arrives\n",
      "7.700723150523597 Customer 21 departs\n",
      "7.700723150523597 Customer 22 being served\n",
      "7.978372508847192 Customer 22 departs\n",
      "7.978372508847192 Customer 23 being served\n",
      "7.980216261820535 Customer 24 arrives\n",
      "8.026225824364685 Customer 25 arrives\n",
      "8.037424185180694 Customer 23 departs\n",
      "8.037424185180694 Customer 24 being served\n",
      "8.15044969926729 Customer 24 departs\n",
      "8.15044969926729 Customer 25 being served\n",
      "8.15254647974351 Customer 26 arrives\n",
      "8.344987916720042 Customer 27 arrives\n",
      "8.361556644430017 Customer 25 departs\n",
      "8.361556644430017 Customer 26 being served\n",
      "8.38846542256384 Customer 26 departs\n",
      "8.38846542256384 Customer 27 being served\n",
      "8.44704080147208 Customer 27 departs\n",
      "9.82982037692306 Customer 28 arrives\n",
      "9.82982037692306 Customer 28 being served\n",
      "9.888458228067927 Customer 29 arrives\n",
      "9.98581840637035 Customer 30 arrives\n",
      "10.094506058149664 Customer 28 departs\n",
      "10.094506058149664 Customer 29 being served\n",
      "10.16457531157538 Customer 29 departs\n",
      "10.16457531157538 Customer 30 being served\n",
      "10.195132266728415 Customer 31 arrives\n",
      "10.207857174768682 Customer 30 departs\n",
      "10.207857174768682 Customer 31 being served\n",
      "10.234117404075466 Customer 32 arrives\n",
      "10.283688161204896 Customer 33 arrives\n",
      "10.356648362106576 Customer 34 arrives\n",
      "10.474875222218468 Customer 31 departs\n",
      "10.474875222218468 Customer 32 being served\n",
      "10.509986350626482 Customer 35 arrives\n",
      "10.544034646181338 Customer 36 arrives\n",
      "10.90495813516298 Customer 32 departs\n",
      "10.90495813516298 Customer 33 being served\n",
      "10.930216830864289 Customer 33 departs\n",
      "10.930216830864289 Customer 34 being served\n",
      "11.150640954313007 Customer 37 arrives\n",
      "11.361419821868134 Customer 38 arrives\n",
      "11.867474693540437 Customer 34 departs\n",
      "11.867474693540437 Customer 35 being served\n",
      "12.099594318861296 Customer 35 departs\n",
      "12.099594318861296 Customer 36 being served\n",
      "12.435655635032976 Customer 36 departs\n",
      "12.435655635032976 Customer 37 being served\n",
      "12.445649710653854 Customer 37 departs\n",
      "12.445649710653854 Customer 38 being served\n",
      "12.528752271978009 Customer 38 departs\n",
      "12.61539554590798 Customer 39 arrives\n",
      "12.61539554590798 Customer 39 being served\n",
      "12.658081133066156 Customer 40 arrives\n",
      "12.700210680305858 Customer 41 arrives\n",
      "12.70318956762386 Customer 39 departs\n",
      "12.70318956762386 Customer 40 being served\n",
      "12.827777666238399 Customer 42 arrives\n",
      "12.83691066418495 Customer 40 departs\n",
      "12.83691066418495 Customer 41 being served\n",
      "12.849876798402079 Customer 43 arrives\n",
      "13.128575980145621 Customer 44 arrives\n",
      "13.131708045967535 Customer 41 departs\n",
      "13.131708045967535 Customer 42 being served\n",
      "13.23138092676957 Customer 45 arrives\n",
      "13.264264364662987 Customer 46 arrives\n",
      "13.316897783864396 Customer 42 departs\n",
      "13.316897783864396 Customer 43 being served\n",
      "13.550229578658133 Customer 47 arrives\n",
      "13.678082982138944 Customer 48 arrives\n",
      "13.979211765117192 Customer 43 departs\n",
      "13.979211765117192 Customer 44 being served\n",
      "14.014544443621999 Customer 44 departs\n",
      "14.014544443621999 Customer 45 being served\n",
      "14.045031622558998 Customer 49 arrives\n",
      "14.158916345826265 Customer 50 arrives\n",
      "14.226366491419617 Customer 51 arrives\n",
      "14.329527901673927 Customer 45 departs\n",
      "14.329527901673927 Customer 46 being served\n",
      "14.334606015260714 Customer 46 departs\n",
      "14.334606015260714 Customer 47 being served\n",
      "14.520742840182818 Customer 52 arrives\n",
      "14.522311685039718 Customer 53 arrives\n",
      "14.776041284668555 Customer 47 departs\n",
      "14.776041284668555 Customer 48 being served\n",
      "14.854721701438654 Customer 48 departs\n",
      "14.854721701438654 Customer 49 being served\n",
      "14.899856396435649 Customer 54 arrives\n",
      "15.186911171465747 Customer 49 departs\n",
      "15.186911171465747 Customer 50 being served\n",
      "15.258416415847607 Customer 50 departs\n",
      "15.258416415847607 Customer 51 being served\n",
      "15.473014656936236 Customer 51 departs\n",
      "15.473014656936236 Customer 52 being served\n",
      "15.697162377582373 Customer 52 departs\n",
      "15.697162377582373 Customer 53 being served\n",
      "15.909467582983527 Customer 53 departs\n",
      "15.909467582983527 Customer 54 being served\n",
      "15.972572581845366 Customer 54 departs\n",
      "15.991570790783147 Customer 55 arrives\n",
      "15.991570790783147 Customer 55 being served\n",
      "16.139726797685608 Customer 55 departs\n",
      "17.0089980257784 Customer 56 arrives\n",
      "17.0089980257784 Customer 56 being served\n",
      "17.309557665792294 Customer 56 departs\n",
      "17.633484666199447 Customer 57 arrives\n",
      "17.633484666199447 Customer 57 being served\n",
      "17.75115804357581 Customer 58 arrives\n",
      "17.919497627268477 Customer 59 arrives\n",
      "18.053715217391655 Customer 57 departs\n",
      "18.053715217391655 Customer 58 being served\n",
      "18.27134917203031 Customer 58 departs\n",
      "18.27134917203031 Customer 59 being served\n",
      "18.629330748842854 Customer 60 arrives\n",
      "18.805056789395422 Customer 59 departs\n",
      "18.805056789395422 Customer 60 being served\n",
      "19.022458391833876 Customer 61 arrives\n",
      "19.128034105135743 Customer 60 departs\n",
      "19.128034105135743 Customer 61 being served\n",
      "19.25439154469894 Customer 62 arrives\n",
      "19.598657217450683 Customer 63 arrives\n",
      "19.782455883496194 Customer 64 arrives\n",
      "19.909401165890802 Customer 61 departs\n",
      "19.909401165890802 Customer 62 being served\n",
      "19.914246110636963 Customer 62 departs\n",
      "19.914246110636963 Customer 63 being served\n",
      "20.003977914763954 Customer 63 departs\n",
      "20.003977914763954 Customer 64 being served\n",
      "20.093256841304196 Customer 65 arrives\n",
      "20.2074567149213 Customer 66 arrives\n",
      "20.273807963779664 Customer 64 departs\n",
      "20.273807963779664 Customer 65 being served\n",
      "20.413798232328404 Customer 65 departs\n",
      "20.413798232328404 Customer 66 being served\n",
      "20.45019172568075 Customer 66 departs\n",
      "20.528248402001495 Customer 67 arrives\n",
      "20.528248402001495 Customer 67 being served\n",
      "20.646323111860298 Customer 68 arrives\n",
      "20.739220519652385 Customer 67 departs\n",
      "20.739220519652385 Customer 68 being served\n",
      "20.944232803236066 Customer 69 arrives\n",
      "20.952740449471268 Customer 68 departs\n",
      "20.952740449471268 Customer 69 being served\n",
      "21.21670284850275 Customer 69 departs\n",
      "21.297235935949995 Customer 70 arrives\n",
      "21.297235935949995 Customer 70 being served\n",
      "21.485439436880558 Customer 71 arrives\n",
      "21.638163730688067 Customer 72 arrives\n",
      "21.82898425133752 Customer 73 arrives\n",
      "21.864394428226834 Customer 70 departs\n",
      "21.864394428226834 Customer 71 being served\n",
      "22.274618819159933 Customer 71 departs\n",
      "22.274618819159933 Customer 72 being served\n",
      "22.570622460596816 Customer 74 arrives\n",
      "22.578873691290728 Customer 72 departs\n",
      "22.578873691290728 Customer 73 being served\n",
      "22.60582667541458 Customer 75 arrives\n",
      "23.023362518414114 Customer 76 arrives\n",
      "23.208694226178363 Customer 73 departs\n",
      "23.208694226178363 Customer 74 being served\n",
      "23.249161747852927 Customer 74 departs\n",
      "23.249161747852927 Customer 75 being served\n",
      "23.75563894603842 Customer 75 departs\n",
      "23.75563894603842 Customer 76 being served\n",
      "23.799970340816216 Customer 76 departs\n"
     ]
    }
   ],
   "source": [
    "server = simpy.Resource(env, capacity = 1) # Create shared resource - server\n",
    "env.process(facility(env, server))\n",
    "np.random.seed(0) \n",
    "env.run(until = 25)"
   ]
  },
  {
   "cell_type": "markdown",
   "metadata": {},
   "source": [
    "# Statistics"
   ]
  },
  {
   "cell_type": "code",
   "execution_count": 8,
   "metadata": {
    "scrolled": true
   },
   "outputs": [
    {
     "name": "stdout",
     "output_type": "stream",
     "text": [
      "Mean waiting time: 0.7927110264123092\n",
      "Median: 0.7166482915265027\n"
     ]
    }
   ],
   "source": [
    "print('Mean waiting time:', statistics.mean(waiting_time))\n",
    "print('Median:', statistics.median(waiting_time))"
   ]
  },
  {
   "cell_type": "code",
   "execution_count": 9,
   "metadata": {},
   "outputs": [
    {
     "data": {
      "text/plain": [
       "Text(0, 0.5, 'Customers')"
      ]
     },
     "execution_count": 9,
     "metadata": {},
     "output_type": "execute_result"
    },
    {
     "data": {
      "image/png": "[encoded data removed]",
      "text/plain": [
       "<Figure size 432x288 with 1 Axes>"
      ]
     },
     "metadata": {
      "needs_background": "light"
     },
     "output_type": "display_data"
    }
   ],
   "source": [
    "plt.hist(waiting_time)\n",
    "plt.title('Customer Waiting Time')\n",
    "plt.xlabel('Time')\n",
    "plt.ylabel('Customers')"
   ]
  },
  {
   "cell_type": "code",
   "execution_count": null,
   "metadata": {},
   "outputs": [],
   "source": []
  }
 ],
 "metadata": {
  "kernelspec": {
   "display_name": "Python 3",
   "language": "python",
   "name": "python3"
  },
  "language_info": {
   "codemirror_mode": {
    "name": "ipython",
    "version": 3
   },
   "file_extension": ".py",
   "mimetype": "text/x-python",
   "name": "python",
   "nbconvert_exporter": "python",
   "pygments_lexer": "ipython3",
   "version": "3.7.3"
  }
 },
 "nbformat": 4,
 "nbformat_minor": 2
}
